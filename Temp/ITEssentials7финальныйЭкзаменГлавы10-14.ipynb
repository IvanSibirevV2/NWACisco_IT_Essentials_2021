{
 "cells": [
  {
   "cell_type": "markdown",
   "metadata": {},
   "source": [
    "# IT Essentials (Версия 7.00) - IT Essentials 7.0 Финальный экзамен, главы 10 - 14"
   ]
  },
  {
   "cell_type": "markdown",
   "metadata": {},
   "source": [
    "1\n",
    "Какой термин описывает файловую систему, поддерживающую разделы размером до 16 ЭБ?\n",
    "\n",
    "+NTFS\n",
    "\n",
    "расширенный раздел\n",
    "\n",
    "логический диск\n",
    "\n",
    "активный раздел\n",
    "Навигационная панель"
   ]
  },
  {
   "cell_type": "markdown",
   "metadata": {},
   "source": [
    "2\n",
    "Для чего пользователю нужно использовать команду nslookup ?\n",
    "\n",
    "+для запроса системы доменных имен (DNS) с целью получения доменных имен и информации о сопоставлении\n",
    "\n",
    "для сканирования и проверки целостности всех защищенных системных файлов, а также замены неправильных версий на правильные\n",
    "\n",
    "для поочередного выключения нескольких удаленных компьютеров по одному\n",
    "\n",
    "для восстановления, подготовки и исправления образов ОС Windows, а также образа восстановления в пределах установленной операционной системы"
   ]
  },
  {
   "cell_type": "markdown",
   "metadata": {
    "ExecuteTime": {
     "end_time": "2021-10-26T15:25:37.692000+03:00",
     "start_time": "2021-10-26T12:25:36.600Z"
    }
   },
   "source": [
    "3\n",
    "Какие компоненты используются для назначения разрешений для файлов и каталогов в системах Linux? (Выберите три варианта.)\n",
    "\n",
    "admin group\n",
    "\n",
    "super group\n",
    "\n",
    "+group\n",
    "\n",
    "+all users\n",
    "\n",
    "root\n",
    "\n",
    "+owner"
   ]
  },
  {
   "cell_type": "markdown",
   "metadata": {
    "ExecuteTime": {
     "end_time": "2021-10-26T15:26:52.962000+03:00",
     "start_time": "2021-10-26T12:26:52.946Z"
    }
   },
   "source": [
    "4\n",
    "Почему при попытке повышения производительности системы Linux компьютеров с ограниченным объемом памяти увеличение размера системы подкачки не считается оптимальным решением?\n",
    "\n",
    "Система подкачки не имеет определенной файловой системы.\n",
    "\n",
    "Система подкачки не может быть установлена на раздел MBR.\n",
    "\n",
    "Система подкачки поддерживает только файловую систему ex2.\n",
    "\n",
    "+Система подкачки использует дисковое пространство на жестком диске для хранения неактивного содержимого оперативной памяти."
   ]
  },
  {
   "cell_type": "markdown",
   "metadata": {},
   "source": [
    "Пользователь звонит в службу поддержки и сообщает, что ноутбук с ОС Linux зависает при запуске и выдаёт сообщение “kernel panic”. Укажите возможную причину этой проблемы.\n",
    "\n",
    "Приложение использует ресурс, который стал недоступен\n",
    "\n",
    "Удаление GRUB или LILO\n",
    "\n",
    "+Повреждение драйвера\n",
    "\n",
    "Повреждение GRUB или LILO"
   ]
  },
  {
   "cell_type": "markdown",
   "metadata": {},
   "source": [
    "\n",
    "Пользователь обращается в службу поддержки и сообщает, что его мобильное устройство работает очень медленно. Какова возможная причина этой проблемы?\n",
    "\n",
    "Приложение не совместимо с устройством.\n",
    "\n",
    "+В фоновом режиме выполняется приложение, интенсивно расходующее энергию.\n",
    "\n",
    "Операционная система испорчена.\n",
    "\n",
    "Сенсорный экран не откалиброван.\n",
    "Навигационная панель"
   ]
  },
  {
   "cell_type": "markdown",
   "metadata": {
    "ExecuteTime": {
     "end_time": "2021-10-26T15:31:37.392000+03:00",
     "start_time": "2021-10-26T12:31:37.385Z"
    }
   },
   "source": [
    "7\n",
    "Пользователь загружает виджет на телефон Android, однако с удивлением замечает, что в результате прикосновения к виджету загружается приложение. В чем может быть причина этой проблемы?\n",
    "\n",
    "Виджет поврежден.\n",
    "\n",
    "+Виджет связан с приложением, и такое поведение является нормальным.\n",
    "\n",
    "Пользователь загрузил вирус.\n",
    "\n",
    "Система защиты Android нарушена или неправильно настроена.\n",
    "Навигационная панель"
   ]
  },
  {
   "cell_type": "markdown",
   "metadata": {},
   "source": [
    "8\n",
    "Каковы три функции системы GPS на мобильных устройствах? (Выберите три варианта.)\n",
    "\n",
    "Расчет расхода бензина\n",
    "\n",
    "+Отслеживание устройств\n",
    "\n",
    "+Навигация\n",
    "\n",
    "+Поиск с привязкой к местности\n",
    "\n",
    "Дистанционное стирание\n",
    "\n",
    "Поиск телефонных номеров\n",
    "Навигационная панель"
   ]
  },
  {
   "cell_type": "markdown",
   "metadata": {},
   "source": [
    "9\n",
    "Какая встроенная служебная программа на компьютере Mac OS X предназначена для резервного копирования дисков?\n",
    "\n",
    "Finder\n",
    "\n",
    "+Time Machine\n",
    "\n",
    "Disk Utility\n",
    "\n",
    "Deja Dup"
   ]
  },
  {
   "cell_type": "markdown",
   "metadata": {},
   "source": [
    "10\n",
    "Для чего приложения на мобильном устройстве запускаются в «песочнице»?\n",
    "\n",
    "Чтобы телефон мог использовать несколько операционных систем.\n",
    "\n",
    "Для обхода наложенных оператором ограничений, блокирующих доступ к неавторизованным приложениям.\n",
    "\n",
    "+Чтобы не дать вредоносным программам заразить устройство.\n",
    "\n",
    "Для отображения значков отдельных приложений на главном экране.\n",
    "Навигационная панель"
   ]
  },
  {
   "attachments": {
    "image.png": {
     "image/png": "[encoded data removed]"
    }
   },
   "cell_type": "markdown",
   "metadata": {},
   "source": [
    "![image.png](attachment:image.png)\n"
   ]
  },
  {
   "cell_type": "markdown",
   "metadata": {},
   "source": []
  },
  {
   "cell_type": "markdown",
   "metadata": {},
   "source": [
    "12\n",
    "Менеджер сообщает, компьютер с ОС Windows странно себя ведет. Технический специалист делает вывод, что виновато вредоносное ПО. Что технический специалист может сделать, чтобы удалить трудноудаляемое вредоносное ПО?\n",
    "\n",
    "Убедитесь, что компьютер подключен к проводной сети связи, чтобы было можно установить обновления программного обеспечения для защиты от вредоносного ПО.\n",
    "\n",
    "+Перейдите в безопасный режим и выполните процедуру восстановления системы.\n",
    "\n",
    "Установите программу защиты от рекламного ПО.\n",
    "\n",
    "Научите пользователя выявлять доверенные и недоверенные источники."
   ]
  },
  {
   "cell_type": "markdown",
   "metadata": {},
   "source": [
    "13\n",
    "Назовите методы, с помощью которых можно внедрить многофакторную аутентификацию.\n",
    "\n",
    "+пароли и отпечатки пальцев\n",
    "\n",
    "токены и хеш-суммы\n",
    "\n",
    "сети VPN и VLAN\n",
    "\n",
    "системы IDS и IPS\n",
    "Навигационная панель"
   ]
  },
  {
   "cell_type": "markdown",
   "metadata": {},
   "source": [
    "14\n",
    "Какую служебную программу Windows необходимо использовать для настройки правил создания паролей и политик блокировки учетных записей в системе, которая не является частью домена?\n",
    "\n",
    "Управление компьютером\n",
    "\n",
    "+Средство «Локальная политика безопасности»\n",
    "\n",
    "Средство «Безопасность Active Directory»\n",
    "\n",
    "Журнал безопасности в средстве просмотра событий\n",
    "Навигационная панель"
   ]
  },
  {
   "cell_type": "markdown",
   "metadata": {},
   "source": [
    "15\n",
    "ИТ-директор компании поручает специалистам внедрить шифрование данных на корпоративных ноутбуках. Специалисты приходят к выводу, что лучше всего подойдет шифрование всех жестких дисков с помощью Windows BitLocker. Назовите два элемента, которые необходимы для внедрения такого решения. (Выберите два варианта.)\n",
    "\n",
    "USB-накопитель\n",
    "\n",
    "управление паролями\n",
    "\n",
    "+TPM\n",
    "\n",
    "резервная копия\n",
    "\n",
    "EFS\n",
    "\n",
    "+как минимум два тома"
   ]
  },
  {
   "cell_type": "markdown",
   "metadata": {},
   "source": [
    "16\n",
    "Технический специалист подозревает, что неполадки в работе компьютера вызваны проблемой, связанной с безопасностью. Какие два действия можно выполнить для проверки предположений о возможной причине неполадки в процессе поиска и устранения неполадок на компьютере? (Выберите два варианта.)\n",
    "\n",
    "+Вход в систему под другим именем.\n",
    "\n",
    "Обсуждение решений с клиентом.\n",
    "\n",
    "Разговор с клиентом с использованием «открытых» вопросов о проблеме.\n",
    "\n",
    "+Отключение компьютера от сети.\n",
    "\n",
    "Просмотр журналов учета ремонтных работ службы поддержки для получения дополнительной информации."
   ]
  },
  {
   "cell_type": "markdown",
   "metadata": {},
   "source": [
    "17\n",
    "Какой тип угрозы безопасности может передаваться по электронной почте и используется для получения конфиденциальной информации путем записи нажатия клавиш получателя сообщения электронной почты?\n",
    "\n",
    "рекламное ПО\n",
    "\n",
    "+вирус\n",
    "\n",
    "условно вредоносное ПО\n",
    "\n",
    "червь\n",
    "\n",
    "троянская программа"
   ]
  },
  {
   "cell_type": "markdown",
   "metadata": {
    "ExecuteTime": {
     "end_time": "2021-10-26T15:48:02.157000+03:00",
     "start_time": "2021-10-26T12:48:02.152Z"
    }
   },
   "source": [
    "18\n",
    "Что из нижеперечисленного является точным описанием технологии асимметричного шифрования?\n",
    "\n",
    "Это способ, которым шифруются данные, пересылаемые по VPN.\n",
    "\n",
    "Это способ шифрования, при котором трафик на разных концах соединения сличается, чтобы исключить его модификацию.\n",
    "\n",
    "Это способ шифрования, применяющий одинаковые ключи на обоих концах соединения для создания VPN.\n",
    "\n",
    "+Это способ шифрования, в котором для шифрования/дешифрования данных применяется пара из открытого и закрытого ключа."
   ]
  },
  {
   "cell_type": "markdown",
   "metadata": {
    "ExecuteTime": {
     "end_time": "2021-10-26T15:48:41.451000+03:00",
     "start_time": "2021-10-26T12:48:41.439Z"
    }
   },
   "source": [
    "19\n",
    "Заказчик приносит компьютер, который запрашивает пароль при включении даже до загрузки операционной системы. Пароль какого типа включен?\n",
    "\n",
    "+BIOS\n",
    "\n",
    "синхронный\n",
    "\n",
    "сеть\n",
    "\n",
    "многофакторный\n",
    "\n",
    "вход в систему"
   ]
  },
  {
   "cell_type": "markdown",
   "metadata": {
    "ExecuteTime": {
     "end_time": "2021-10-26T15:49:52.454000+03:00",
     "start_time": "2021-10-26T12:49:52.447Z"
    }
   },
   "source": [
    "20\n",
    "Администратор попросил технического специалиста порекомендовать решение по обеспечению безопасности для защиты от фишинга. Какой способ обеспечения безопасности должен порекомендовать технический специалист?\n",
    "\n",
    "Используйте сеть VPN.\n",
    "\n",
    "Используйте эхо-тестирование адресов (ping sweep).\n",
    "\n",
    "+Проведите обучение по обеспечению безопасности.\n",
    "\n",
    "Купите ASA."
   ]
  },
  {
   "cell_type": "markdown",
   "metadata": {
    "ExecuteTime": {
     "end_time": "2021-10-26T15:50:24.288000+03:00",
     "start_time": "2021-10-26T12:50:24.262Z"
    }
   },
   "source": [
    "21\n",
    "Какой номер порта используется продуктом Virtual Network Computing (VNC) для обеспечения удаленного совместного использования экрана для устройств?\n",
    "\n",
    "+5900\n",
    "\n",
    "22\n",
    "\n",
    "23\n",
    "\n",
    "389\n",
    "\n",
    "3389\n",
    "Навигационная панель"
   ]
  },
  {
   "cell_type": "markdown",
   "metadata": {},
   "source": [
    "22\n",
    "Пользователь жалуется, что пользовательские файлы не удается синхронизировать с сетевым файловым сервером, когда сам пользователь находится вне офиса. У пользователя имеется доступ к Интернету, но нет доступа к сетевому серверу компании. Как устранить такую проблему?\n",
    "\n",
    "Убедитесь, что при доступе к сетевым файлам пользователь использует не несколько устройств, а только одно устройство.\n",
    "\n",
    "Настройте партнерство синхронизации между сетевым сервером, Microsoft OneDrive и пользователем.\n",
    "\n",
    "Настройте партнерство синхронизации с сетевой папкой с файлами.\n",
    "\n",
    "Выключите активацию функции Автономные файлы в центре синхронизации."
   ]
  },
  {
   "cell_type": "markdown",
   "metadata": {
    "ExecuteTime": {
     "end_time": "2021-10-26T15:51:42.349000+03:00",
     "start_time": "2021-10-26T12:51:42.341Z"
    }
   },
   "source": [
    "22\n",
    "Пользователь жалуется, что пользовательские файлы не удается синхронизировать с сетевым файловым сервером, когда сам пользователь находится вне офиса. У пользователя имеется доступ к Интернету, но нет доступа к сетевому серверу компании. Как устранить такую проблему?\n",
    "\n",
    "Убедитесь, что при доступе к сетевым файлам пользователь использует не несколько устройств, а только одно устройство.\n",
    "\n",
    "+Настройте партнерство синхронизации между сетевым сервером, Microsoft OneDrive и пользователем.\n",
    "\n",
    "Настройте партнерство синхронизации с сетевой папкой с файлами.\n",
    "\n",
    "Выключите активацию функции Автономные файлы в центре синхронизации.\n",
    "Навигационная панель"
   ]
  },
  {
   "cell_type": "markdown",
   "metadata": {
    "ExecuteTime": {
     "end_time": "2021-10-26T15:53:06.816000+03:00",
     "start_time": "2021-10-26T12:53:06.809Z"
    }
   },
   "source": [
    "23\n",
    "Пользователь сообщает, что во время загрузки на ПК с ОС Windows 10 отображается сообщение об ошибке «Недопустимый загрузочный диск». ИТ-специалист пытается выполнить загрузку компьютера и обнаруживает, что сразу после операции POST появляется сообщение об ошибке. Какова возможная причина?\n",
    "\n",
    "Не удается запустить службу во время загрузки.\n",
    "\n",
    "Испорчена запись BOOTMGR.\n",
    "\n",
    "+Повреждена MBR/GPT.\n",
    "\n",
    "Недавно установленный драйвер устройства несовместим с контроллером загрузки.\n",
    "Навигационная панель"
   ]
  },
  {
   "cell_type": "markdown",
   "metadata": {},
   "source": [
    "25\n",
    "Для создания файла образа ОС Windows на одной из рабочих станций, работающих под управлением Windows 10, технический специалист использует средство Microsoft «Система обслуживания образов развертывания и управления ими» (DISM). Когда технический специалист пытается клонировать другую рабочую станцию с помощью файла образа, то по окончании процедуры эта станция сообщает о проблемах связи по сети. Какова возможная причина этой проблемы?\n",
    "\n",
    "+При создании образа с помощью DISM идентификатор SID исходного ПК не был очищен.\n",
    "\n",
    "Сетевые драйверы не были добавлены в файл образа.\n",
    "\n",
    "До создания файла образа программу Sysprep нужно было выключить.\n",
    "\n",
    "Технический специалист использовал неправильное средство для создания файла образа.\n",
    "Навигационная панель"
   ]
  },
  {
   "cell_type": "markdown",
   "metadata": {},
   "source": [
    "27\n",
    "Технический специалист подключил новый внутренний жесткий диск к ПК с ОС Windows 10. Что нужно сделать, чтобы Windows 10 смогла использовать новый жесткий диск?\n",
    "\n",
    "Смонтируйте новый жесткий диск.\n",
    "\n",
    "Расширьте раздел на существующем жестком диске за счет нового жесткого диска.\n",
    "\n",
    "+Инициализируйте новый жесткий диск.\n",
    "\n",
    "Выполните команду chkdsk на новом жестком диске.\n",
    "Навигационная панель"
   ]
  },
  {
   "cell_type": "markdown",
   "metadata": {
    "ExecuteTime": {
     "end_time": "2021-10-26T16:00:16.902000+03:00",
     "start_time": "2021-10-26T13:00:16.895Z"
    }
   },
   "source": [
    "28\n",
    "Какую услугу предоставляет ресурс PRINT$?\n",
    "\n",
    "Он предоставляет группу скрытых принтеров, задания на печать на которые могут отправлять только администраторы.\n",
    "\n",
    "+Он предоставляет драйверы принтеров администраторам принтеров.\n",
    "\n",
    "Он предоставляет административный общий принтер, доступный для всех учетных записей локальных пользователей.\n",
    "\n",
    "Он предоставляет сетевую папку для доступа к общедоступным принтерам.\n",
    "Навигационная панель"
   ]
  },
  {
   "cell_type": "markdown",
   "metadata": {
    "ExecuteTime": {
     "end_time": "2021-10-26T16:01:03.772000+03:00",
     "start_time": "2021-10-26T13:01:03.765Z"
    }
   },
   "source": [
    "29\n",
    "С помощью какой функции ОС macOS удаленный пользователь может просматривать и изменять файлы, папки и приложения на локальном компьютере?\n",
    "\n",
    "+Совместное использование экрана\n",
    "\n",
    "Удаленный рабочий стол\n",
    "\n",
    "Virtual Network Computing\n",
    "\n",
    "Удаленный помощник\n",
    "Навигационная панель"
   ]
  },
  {
   "cell_type": "markdown",
   "metadata": {},
   "source": [
    "30\n",
    "Организация купила прикладную программу для торгового персонала, которую можно установить только в 64-разрядной операционной системе Windows. Каждый член торгового персонала имеет ПК с 32-разрядной ОС Windows 8.1. Что должен сделать ИТ отдел, чтобы установить такое приложение на компьютерах своих торговых представителей, и чтобы оно нормально работало?\n",
    "\n",
    "+Выполните чистую установку 64-разрядной ОС Windows 10.\n",
    "\n",
    "Понизьте 32-разрядную ОС Windows 8.1 до 64-разрядной ОС Windows 7.\n",
    "\n",
    "Обновите 32-разрядную ОС Windows 8.1 до 64-разрядной ОС Windows 10.\n",
    "\n",
    "Загрузите и установите 64-разрядные драйверы для аппаратных средств в текущей ОС.\n",
    "Навигационная панель"
   ]
  },
  {
   "cell_type": "markdown",
   "metadata": {
    "ExecuteTime": {
     "end_time": "2021-10-26T16:03:38.613000+03:00",
     "start_time": "2021-10-26T13:03:38.607Z"
    }
   },
   "source": [
    "31\n",
    "Технический специалист хочет развернуть ОС Windows 10 Pro на нескольких ПК с помощью процесса удаленной установки по сети. Сначала технический специалист подключает новые ПК к сети и выполняет на них загрузку. Однако развертывание завершается сбоем, так как целевым ПК не удается взаимодействовать с сервером развертывания. Почему это происходит?\n",
    "\n",
    "В файле образа загружены неправильные сетевые драйверы.\n",
    "\n",
    "+В новых ПК платы сетевых адаптеров не поддерживают PXE.\n",
    "\n",
    "SID не был изменен в файле образа.\n",
    "\n",
    "Перед созданием файла образа Sysprep не использовался."
   ]
  },
  {
   "cell_type": "markdown",
   "metadata": {
    "ExecuteTime": {
     "end_time": "2021-10-26T16:04:55.163000+03:00",
     "start_time": "2021-10-26T13:04:55.155Z"
    }
   },
   "source": [
    "32\n",
    "Технический специалист хочет выполнить специальную автоматическую сетевую установку ОС Windows 10 на ПК. Требования включают в себя установку конкретных приложений и драйверов устройств с помощью файла ответов. Что он должен использовать для создания файла ответов?\n",
    "\n",
    "Раздел восстановления\n",
    "\n",
    "+Windows SIM\n",
    "\n",
    "Восстановление системы\n",
    "\n",
    "клонирование диска\n",
    "Навигационная панель"
   ]
  },
  {
   "cell_type": "markdown",
   "metadata": {
    "ExecuteTime": {
     "end_time": "2021-10-26T16:05:56.199000+03:00",
     "start_time": "2021-10-26T13:05:56.184Z"
    }
   },
   "source": [
    "33\n",
    "Какие два средства можно использовать для передачи пользовательских данных и настроек с компьютера с устаревшей ОС Windows в операционную систему Windows на новом компьютере? (Выберите два варианта.)\n",
    "\n",
    "Помощник по обновлению Windows\n",
    "\n",
    "Советник по переходу Windows\n",
    "\n",
    "Диспетчер пользователей Windows\n",
    "\n",
    "+Средство миграции пользовательской среды\n",
    "\n",
    "+Средство переноса данных Windows\n",
    "Навигационная панель"
   ]
  },
  {
   "cell_type": "markdown",
   "metadata": {
    "ExecuteTime": {
     "end_time": "2021-10-26T16:07:02.136000+03:00",
     "start_time": "2021-10-26T13:07:02.129Z"
    }
   },
   "source": [
    "34\n",
    "Пользователь хочет увеличить основной раздел, отформатированный под файловую систему NTFS, за счет незанятого пространства на жестком диске. Что должен сделать пользователь, чтобы с расширенным основным разделом можно было работать?\n",
    "\n",
    "Разбить новое пространство на разделы как базовый диск.\n",
    "\n",
    "Убедиться, что диск базового типа.\n",
    "\n",
    "Отформатировать диск под файловую систему FAT64.\n",
    "\n",
    "+Преобразовать диск в динамический.\n",
    "Навигационная панель"
   ]
  },
  {
   "cell_type": "markdown",
   "metadata": {
    "ExecuteTime": {
     "end_time": "2021-10-26T16:07:58.716000+03:00",
     "start_time": "2021-10-26T13:07:58.709Z"
    }
   },
   "source": [
    "35\n",
    "Технический специалист хочет подготовить режим аварийного восстановления для компьютеров в сети. Сеть включает в себя различные настольные компьютеры и ноутбуки различных производителей. Все компьютеры работают под управлением 32- или 64-разрядной версии ОС Windows 10 Pro. Как технический специалист должен подготовить носитель для восстановления системы?\n",
    "\n",
    "Подготовьте один образ восстановления для всех компьютеров.\n",
    "\n",
    "+Подготовьте отдельные диски восстановления для всех компьютеров.\n",
    "\n",
    "Подготовьте один 64-разрядный диск восстановления для всех компьютеров.\n",
    "\n",
    "Подготовьте один 32-разрядный диск восстановления для всех компьютеров."
   ]
  },
  {
   "cell_type": "markdown",
   "metadata": {
    "ExecuteTime": {
     "end_time": "2021-10-26T16:10:50.316000+03:00",
     "start_time": "2021-10-26T13:10:50.306Z"
    }
   },
   "source": [
    "37\n",
    "Аналитик выполняет процесс загрузки ПК, на котором установлена ОС Windows 7 и содержащего ОЗУ 4 ГБ Процесс загрузки в настоящее время выполняет следующую операцию: Winload использует путь, указанный в BOOTMGR, для поиска загрузочного раздела. Какая следующая операция будет выполнена в процессе загрузки?\n",
    "\n",
    "WINLOGON.EXE отображает экран приветствия Windows\n",
    "\n",
    "NTOSKRNL.EXE запускает файл входа в систему под именем WINLOGON.EXE.\n",
    "\n",
    "+WinLoad загружает два файла, которые составляют ядро ОС Windows: NTOSKRNL.EXE и HAL.DLL.\n",
    "\n",
    "Других операций нет. Процесс загрузки выполнен.\n",
    "Навигационная панель"
   ]
  },
  {
   "cell_type": "markdown",
   "metadata": {
    "ExecuteTime": {
     "end_time": "2021-10-26T16:11:28.716000+03:00",
     "start_time": "2021-10-26T13:11:28.706Z"
    }
   },
   "source": [
    "38\n",
    "Пользователи в компании жалуются на качество работы сети. В результате анализа ИТ-специалист устанавливает, что злоумышленник использует метод, позволяющий сравнивать хешированные пароли с потенциальными хеш-значениями, которые есть у хакера. К какому типу относится сетевая атака?\n",
    "\n",
    "Фальсификация DNS\n",
    "\n",
    "Атака нулевого дня\n",
    "\n",
    "+радужная таблица\n",
    "\n",
    "Лавина SYN-запросов\n",
    "Навигационная панель"
   ]
  },
  {
   "cell_type": "markdown",
   "metadata": {
    "ExecuteTime": {
     "end_time": "2021-10-26T16:12:13.434000+03:00",
     "start_time": "2021-10-26T13:12:13.426Z"
    }
   },
   "source": [
    "39\n",
    "Технический специалист входит в серверную и обнаруживает, что корпус компьютера сервера резервирования открыт. Все жесткие диски, содержащие медицинские данные пациентов, физически отсоединены от материнской платы, а кабели передачи данных SATA торчат из корпуса. Что технический специалист должен сделать в первую очередь?\n",
    "\n",
    "Поместить жесткие диски во внешний контейнер и начать процедуру резервного копирования данных до передачи дисков сотрудникам службы оперативного реагирования.\n",
    "\n",
    "Отсоединить кабели питания SATA для предотвращения потери постоянно хранимых данных.\n",
    "\n",
    "+Определить сотрудника, имеющего право на сбор доказательств.\n",
    "\n",
    "Снять отпечатки пальцев на корпусе компьютера сервера.\n",
    "\n",
    "Повторно подключить кабели передачи данных SATA для гарантированного продолжения резервного копирования данных."
   ]
  },
  {
   "cell_type": "markdown",
   "metadata": {
    "ExecuteTime": {
     "end_time": "2021-10-26T16:12:48.484000+03:00",
     "start_time": "2021-10-26T13:12:48.469Z"
    }
   },
   "source": [
    "40\n",
    "Что определяет уровень поддержки, которую специалист центра обслуживания предоставляет конкретному клиенту?\n",
    "\n",
    "+Все клиенты получают в центре обслуживания поддержку одного уровня.\n",
    "\n",
    "Технический специалист, работающий в центре обслуживания, самостоятельно выбирает уровень поддержки в зависимости от времени, которое он может потратить на помощь клиенту.\n",
    "\n",
    "Поддержка основана на соглашении об уровне обслуживания, заключенном с данным клиентом.\n",
    "\n",
    "Технический специалист первого уровня обеспечивает более высокий уровень поддержки, чем технический специалист второго уровня."
   ]
  },
  {
   "cell_type": "markdown",
   "metadata": {
    "ExecuteTime": {
     "end_time": "2021-10-26T16:13:57.620000+03:00",
     "start_time": "2021-10-26T13:13:57.609Z"
    }
   },
   "source": [
    "40\n",
    "Что определяет уровень поддержки, которую специалист центра обслуживания предоставляет конкретному клиенту?\n",
    "\n",
    "Все клиенты получают в центре обслуживания поддержку одного уровня.\n",
    "\n",
    "Технический специалист, работающий в центре обслуживания, самостоятельно выбирает уровень поддержки в зависимости от времени, которое он может потратить на помощь клиенту.\n",
    "\n",
    "+Поддержка основана на соглашении об уровне обслуживания, заключенном с данным клиентом.\n",
    "\n",
    "Технический специалист первого уровня обеспечивает более высокий уровень поддержки, чем технический специалист второго уровня.\n",
    "Навигационная панель"
   ]
  },
  {
   "cell_type": "markdown",
   "metadata": {
    "ExecuteTime": {
     "end_time": "2021-10-26T16:15:21.976000+03:00",
     "start_time": "2021-10-26T13:15:21.968Z"
    }
   },
   "source": [
    "41\n",
    "ИТ-специалист в компании из сферы обслуживания обеспечивал обширную удаленную ИТ-поддержку по развертыванию продукта для заказчика. По окончании контракта на этого специалиста была подана жалоба. В ней было отмечено, что он не соблюдал политику компании, так как отправлял незапрашиваемые электронные письма об услугах и продуктах, не имеющих отношения к контракту. Что этот специалист должен был сделать по-другому? (Выберите два варианта.)\n",
    "\n",
    "ИТ-специалист должен был запросить разрешение у руководителя на отправку электронных писем заказчика.\n",
    "\n",
    "ИТ-специалист должен был добавить заказчика в круговое письмо с несколькими получателями.\n",
    "\n",
    "+ИТ-специалист должен был ознакомиться с политикой компании относительно персональной связи с заказчиками в рабочее время.\n",
    "\n",
    "ИТ-специалист должен был использовать шифрование для сокрытия назначения электронных писем.\n",
    "\n",
    "+ИТ-специалист должен был спросить у заказчика, интересно ли будет последнему получать информацию о других новых услугах и продуктах.\n",
    "Навигационная панель"
   ]
  },
  {
   "cell_type": "markdown",
   "metadata": {
    "ExecuteTime": {
     "end_time": "2021-10-26T16:17:27.833000+03:00",
     "start_time": "2021-10-26T13:17:27.819Z"
    }
   },
   "source": [
    "Посмотрите на изображение. В процессе поиска и устранения неисправностей ПО, установленного на компьютер, инженеру первого уровня требуется помощь инженера второго уровня. Файл, показанный в примере, необходимо отправить инженеру второго уровня. В каком виде следует отправить этот файл?\n",
    "\n",
    "Этот файл не следует передавать инженеру второго уровня.\n",
    "\n",
    "+Необходимо заменить все пароли в файле на 〈password omitted〉 перед отправкой этого файла по электронной почте, после чего, при необходимости, можно предоставить пароли безопасным способом.\n",
    "\n",
    "Файл можно отправить только в печатной форме.\n",
    "\n",
    "Файл следует отправить инженеру второго уровня без принятия каких-либо особых мер."
   ]
  },
  {
   "cell_type": "markdown",
   "metadata": {
    "ExecuteTime": {
     "end_time": "2021-10-26T16:19:07.242000+03:00",
     "start_time": "2021-10-26T13:19:07.234Z"
    }
   },
   "source": [
    "43\n",
    "Инженер службы поддержки имеет дело с раздраженным заказчиком. Какие два подхода к заказчику должен использовать инженер в этом случае? (Выберите два варианта.)\n",
    "\n",
    "+Перевести разговор на решение проблемы.\n",
    "\n",
    "+Дать заказчику возможность рассказать о проблеме, не перебивая его.\n",
    "\n",
    "Задать заказчику вопросы на посторонние темы, чтобы отвлечь его от проблемы.\n",
    "\n",
    "Отвечать заказчику в том же духе.\n",
    "\n",
    "Сразу отправить заказчика к специалисту более высокого уровня.\n",
    "Навигационная панель"
   ]
  },
  {
   "cell_type": "markdown",
   "metadata": {
    "ExecuteTime": {
     "end_time": "2021-10-26T16:20:05.350000+03:00",
     "start_time": "2021-10-26T13:20:05.337Z"
    }
   },
   "source": [
    "44\n",
    "Какая проблемная область подпадает под категорию эксплуатации и планирования в ИТ-документации?\n",
    "\n",
    "руководство конечного пользователя для аппаратных и программных средств\n",
    "\n",
    "+управление запасами\n",
    "\n",
    "политики и процедуры аварийного восстановления\n",
    "\n",
    "схемы топологии логических и физических сетей"
   ]
  },
  {
   "cell_type": "markdown",
   "metadata": {
    "ExecuteTime": {
     "end_time": "2021-10-26T16:21:05.748000+03:00",
     "start_time": "2021-10-26T13:21:05.741Z"
    }
   },
   "source": [
    "45\n",
    "Сторонняя компания, специализирующаяся в сфере обеспечения безопасности, выполняет аудит системы безопасности для компании и рекомендует ее использовать Протокол удаленного рабочего стола. Какие характеристики имеет Протокол удаленного рабочего стола (RDP) компании Microsoft? (Выберите два варианта.)\n",
    "\n",
    "RDP подключается через TCP-порт 22.\n",
    "\n",
    "+RDP использует шифрованный сеанс связи.\n",
    "\n",
    "Для RDP требуется клиент Windows.\n",
    "\n",
    "RDP — это протокол сетевого виртуального терминала для командной строки.\n",
    "\n",
    "+RDP подключается через TCP-порт 3389.\n",
    "Навигационная панель"
   ]
  },
  {
   "cell_type": "code",
   "execution_count": null,
   "metadata": {},
   "outputs": [],
   "source": []
  }
 ],
 "metadata": {
  "kernelspec": {
   "display_name": "Julia 1.6.0",
   "language": "julia",
   "name": "julia-1.6"
  },
  "language_info": {
   "file_extension": ".jl",
   "mimetype": "application/julia",
   "name": "julia",
   "version": "1.6.0"
  }
 },
 "nbformat": 4,
 "nbformat_minor": 4
}
